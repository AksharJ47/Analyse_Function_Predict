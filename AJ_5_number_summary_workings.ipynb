{
  "nbformat": 4,
  "nbformat_minor": 0,
  "metadata": {
    "colab": {
      "name": "eskom_workings2.ipynb",
      "provenance": [],
      "authorship_tag": "ABX9TyOZosXDkL467eHaKE/fK7Q3",
      "include_colab_link": true
    },
    "kernelspec": {
      "name": "python3",
      "display_name": "Python 3"
    }
  },
  "cells": [
    {
      "cell_type": "markdown",
      "metadata": {
        "id": "view-in-github",
        "colab_type": "text"
      },
      "source": [
        "<a href=\"https://colab.research.google.com/github/AksharJ47/Analyse_Function_Predict/blob/master/AJ_5_number_summary_workings.ipynb\" target=\"_parent\"><img src=\"https://colab.research.google.com/assets/colab-badge.svg\" alt=\"Open In Colab\"/></a>"
      ]
    },
    {
      "cell_type": "code",
      "metadata": {
        "id": "DlqB87sXh3XZ",
        "colab_type": "code",
        "colab": {}
      },
      "source": [
        ""
      ],
      "execution_count": 0,
      "outputs": []
    },
    {
      "cell_type": "code",
      "metadata": {
        "id": "q6ZHpxDaqyAC",
        "colab_type": "code",
        "colab": {}
      },
      "source": [
        "gauteng = [39660.0,\n",
        "            36024.0,\n",
        "            32127.0,\n",
        "            39488.0,\n",
        "            18422.0,\n",
        "            23532.0,\n",
        "            8842.0,\n",
        "            37416.0,\n",
        "            16156.0,\n",
        "            18730.0,\n",
        "            19261.0,\n",
        "            25275.0]"
      ],
      "execution_count": 0,
      "outputs": []
    },
    {
      "cell_type": "code",
      "metadata": {
        "id": "R0E8wjWRZETP",
        "colab_type": "code",
        "outputId": "0be15679-4b85-43fc-9efe-1fe1eaa2111e",
        "colab": {
          "base_uri": "https://localhost:8080/",
          "height": 128
        }
      },
      "source": [
        "## sorting list\n",
        "gauteng_sorttest = if float(len(gauteng))/2 % !=0 :\n",
        "                    \n",
        "print(gauteng_sorttest)"
      ],
      "execution_count": 25,
      "outputs": [
        {
          "output_type": "error",
          "ename": "SyntaxError",
          "evalue": "ignored",
          "traceback": [
            "\u001b[0;36m  File \u001b[0;32m\"<ipython-input-25-1743be775438>\"\u001b[0;36m, line \u001b[0;32m1\u001b[0m\n\u001b[0;31m    gauteng_sorttest = if float(len(gauteng))/2 % !=0 :\u001b[0m\n\u001b[0m                        ^\u001b[0m\n\u001b[0;31mSyntaxError\u001b[0m\u001b[0;31m:\u001b[0m invalid syntax\n"
          ]
        }
      ]
    },
    {
      "cell_type": "code",
      "metadata": {
        "id": "zNafNcVFVTrF",
        "colab_type": "code",
        "colab": {}
      },
      "source": [
        "## this one works for Median!!!! CHeck about the 0.5\n",
        "def findMiddle2(x):\n",
        "    middle = float(len(sorted(x)))/2\n",
        "    if middle % 2 != 0:\n",
        "        return x[int(middle - .5)]\n",
        "    else:\n",
        "        return ((x[int(middle)]) + (x[int(middle-1)])) / 2"
      ],
      "execution_count": 0,
      "outputs": []
    },
    {
      "cell_type": "code",
      "metadata": {
        "id": "lJQPDnOFWESg",
        "colab_type": "code",
        "colab": {
          "base_uri": "https://localhost:8080/",
          "height": 34
        },
        "outputId": "785ee0ca-9561-4e30-cada-2aa32e71c473"
      },
      "source": [
        "print(findMiddle2(gauteng))"
      ],
      "execution_count": 66,
      "outputs": [
        {
          "output_type": "stream",
          "text": [
            "24403.5\n"
          ],
          "name": "stdout"
        }
      ]
    },
    {
      "cell_type": "code",
      "metadata": {
        "id": "ynP241ZHekcT",
        "colab_type": "code",
        "colab": {}
      },
      "source": [
        "## workss for q1! also check about the 0.5\n",
        "def find_q1(x):\n",
        "  q1 = float(len(sorted(x)))/4\n",
        "  return x[(int(q1))-1] + .5"
      ],
      "execution_count": 0,
      "outputs": []
    },
    {
      "cell_type": "code",
      "metadata": {
        "id": "DTcfLMuDkwx7",
        "colab_type": "code",
        "colab": {}
      },
      "source": [
        "## now working for q3 Also check about the 0.5\n",
        "\n",
        "## q3 workings 1.33 is from length divided by (q3 *3)\n",
        "def find_q3(x):\n",
        "  q3 = float(len(sorted(x)))/1.33\n",
        "  return x[(int(q3))-1] + .5"
      ],
      "execution_count": 0,
      "outputs": []
    },
    {
      "cell_type": "code",
      "metadata": {
        "id": "KiYDjRz0lfd_",
        "colab_type": "code",
        "colab": {
          "base_uri": "https://localhost:8080/",
          "height": 34
        },
        "outputId": "fdee8f55-3f93-4133-987d-6fca96368478"
      },
      "source": [
        "float(len(sorted(gauteng)))/2"
      ],
      "execution_count": 102,
      "outputs": [
        {
          "output_type": "execute_result",
          "data": {
            "text/plain": [
              "6.0"
            ]
          },
          "metadata": {
            "tags": []
          },
          "execution_count": 102
        }
      ]
    },
    {
      "cell_type": "code",
      "metadata": {
        "id": "5qoIXGyTlmcK",
        "colab_type": "code",
        "colab": {}
      },
      "source": [
        ""
      ],
      "execution_count": 0,
      "outputs": []
    },
    {
      "cell_type": "code",
      "metadata": {
        "id": "pbC0mqGNekpC",
        "colab_type": "code",
        "colab": {
          "base_uri": "https://localhost:8080/",
          "height": 34
        },
        "outputId": "21029143-3ad0-433c-d0b4-6b25372f3652"
      },
      "source": [
        "find_q3(gauteng)"
      ],
      "execution_count": 110,
      "outputs": [
        {
          "output_type": "execute_result",
          "data": {
            "text/plain": [
              "36024.5"
            ]
          },
          "metadata": {
            "tags": []
          },
          "execution_count": 110
        }
      ]
    },
    {
      "cell_type": "code",
      "metadata": {
        "id": "aCyMfr5wfxHx",
        "colab_type": "code",
        "colab": {
          "base_uri": "https://localhost:8080/",
          "height": 34
        },
        "outputId": "c0fe41e6-8835-45ee-b0f7-1f64458b7404"
      },
      "source": [
        "def percentile1(x, 4):\n",
        "  "
      ],
      "execution_count": 74,
      "outputs": [
        {
          "output_type": "execute_result",
          "data": {
            "text/plain": [
              "3.0"
            ]
          },
          "metadata": {
            "tags": []
          },
          "execution_count": 74
        }
      ]
    },
    {
      "cell_type": "code",
      "metadata": {
        "id": "lUQ7V8MNf2g5",
        "colab_type": "code",
        "colab": {
          "base_uri": "https://localhost:8080/",
          "height": 34
        },
        "outputId": "c4283e20-499b-49d1-f6b1-02fcaf1a5441"
      },
      "source": [
        "gauteng[3]"
      ],
      "execution_count": 75,
      "outputs": [
        {
          "output_type": "execute_result",
          "data": {
            "text/plain": [
              "18730.0"
            ]
          },
          "metadata": {
            "tags": []
          },
          "execution_count": 75
        }
      ]
    },
    {
      "cell_type": "code",
      "metadata": {
        "id": "Eieo3YgyXEag",
        "colab_type": "code",
        "colab": {}
      },
      "source": [
        "def findMiddle(gauteng):\n",
        "  if len(gauteng) % 2 == 0:\n",
        "    return (gauteng[int(len(gauteng) / 2 )] + gauteng[int(len(gauteng) / 2 ) - 1]) / 2\n",
        "  else:\n",
        "    return gauteng[int(len(gauteng) / 2)]"
      ],
      "execution_count": 0,
      "outputs": []
    },
    {
      "cell_type": "code",
      "metadata": {
        "id": "sm90hllWZ8yM",
        "colab_type": "code",
        "colab": {
          "base_uri": "https://localhost:8080/",
          "height": 34
        },
        "outputId": "b2c69c5a-2e2e-40ad-8a53-c3a7aa52e932"
      },
      "source": [
        "findMiddle(gauteng)"
      ],
      "execution_count": 41,
      "outputs": [
        {
          "output_type": "execute_result",
          "data": {
            "text/plain": [
              "24403.5"
            ]
          },
          "metadata": {
            "tags": []
          },
          "execution_count": 41
        }
      ]
    },
    {
      "cell_type": "code",
      "metadata": {
        "id": "I9o-uQolXr1N",
        "colab_type": "code",
        "colab": {
          "base_uri": "https://localhost:8080/",
          "height": 34
        },
        "outputId": "d8bd11f8-b055-4f13-9a1f-da61243368c3"
      },
      "source": [
        "gauteng.sort()"
      ],
      "execution_count": 39,
      "outputs": [
        {
          "output_type": "stream",
          "text": [
            "[8842.0, 16156.0, 18422.0, 18730.0, 19261.0, 23532.0, 25275.0, 32127.0, 36024.0, 37416.0, 39488.0, 39660.0]\n"
          ],
          "name": "stdout"
        }
      ]
    },
    {
      "cell_type": "markdown",
      "metadata": {
        "id": "qQXHqF4foTmr",
        "colab_type": "text"
      },
      "source": [
        "        0       1        2         3        4        5        6        7        8        9        10       11       12"
      ]
    },
    {
      "cell_type": "code",
      "metadata": {
        "id": "3QH_hQ2WaDEm",
        "colab_type": "code",
        "outputId": "3af1ae70-4ac5-4cf5-c4b2-494784a962b3",
        "colab": {
          "base_uri": "https://localhost:8080/",
          "height": 34
        }
      },
      "source": [
        "## min\n",
        "minimum = min(gauteng_sort)\n",
        "print(minimum)"
      ],
      "execution_count": 0,
      "outputs": [
        {
          "output_type": "stream",
          "text": [
            "8842.0\n"
          ],
          "name": "stdout"
        }
      ]
    },
    {
      "cell_type": "code",
      "metadata": {
        "id": "I1i-tdbOiOgt",
        "colab_type": "code",
        "outputId": "309ec3a7-ed6c-4680-9196-df7415362317",
        "colab": {
          "base_uri": "https://localhost:8080/",
          "height": 34
        }
      },
      "source": [
        "## max\n",
        "maximum = max(gauteng_sort)\n",
        "print(maximum)"
      ],
      "execution_count": 0,
      "outputs": [
        {
          "output_type": "stream",
          "text": [
            "39660.0\n"
          ],
          "name": "stdout"
        }
      ]
    },
    {
      "cell_type": "code",
      "metadata": {
        "id": "V3cTLnyBibEw",
        "colab_type": "code",
        "outputId": "d5102df4-0ca4-4569-db2a-f0777639830f",
        "colab": {
          "base_uri": "https://localhost:8080/",
          "height": 34
        }
      },
      "source": [
        "## median\n",
        "median = (gauteng_sort[int(len(gauteng_sort)/2)] + gauteng_sort[int(len(gauteng_sort)/2) - 1]) / 2\n",
        "print(median)"
      ],
      "execution_count": 0,
      "outputs": [
        {
          "output_type": "stream",
          "text": [
            "24403.5\n"
          ],
          "name": "stdout"
        }
      ]
    },
    {
      "cell_type": "code",
      "metadata": {
        "id": "P7SeoHAIMwuA",
        "colab_type": "code",
        "colab": {
          "base_uri": "https://localhost:8080/",
          "height": 34
        },
        "outputId": "e5fa55e9-2c47-4362-ac01-20ab584657ea"
      },
      "source": [
        "len(gauteng_sort) / 2 + 2 - 1"
      ],
      "execution_count": 19,
      "outputs": [
        {
          "output_type": "execute_result",
          "data": {
            "text/plain": [
              "7.0"
            ]
          },
          "metadata": {
            "tags": []
          },
          "execution_count": 19
        }
      ]
    },
    {
      "cell_type": "code",
      "metadata": {
        "id": "YsThKWwRN-i0",
        "colab_type": "code",
        "colab": {
          "base_uri": "https://localhost:8080/",
          "height": 34
        },
        "outputId": "1af77097-879d-42ec-9571-a79aac34f5a6"
      },
      "source": [
        "max(gauteng)"
      ],
      "execution_count": 20,
      "outputs": [
        {
          "output_type": "execute_result",
          "data": {
            "text/plain": [
              "39660.0"
            ]
          },
          "metadata": {
            "tags": []
          },
          "execution_count": 20
        }
      ]
    },
    {
      "cell_type": "code",
      "metadata": {
        "id": "tlSS2TtKim0g",
        "colab_type": "code",
        "outputId": "53d10b03-dfc6-4d1f-f76b-6960b9cecb40",
        "colab": {
          "base_uri": "https://localhost:8080/",
          "height": 34
        }
      },
      "source": [
        "## 1st quartile\n",
        "quartile_1 = gauteng_sort[int(len(gauteng_sort) / 4) - 1]\n",
        "print(quartile_1)"
      ],
      "execution_count": 0,
      "outputs": [
        {
          "output_type": "stream",
          "text": [
            "18422.0\n"
          ],
          "name": "stdout"
        }
      ]
    },
    {
      "cell_type": "code",
      "metadata": {
        "id": "xaA1H7_RdOqU",
        "colab_type": "code",
        "colab": {}
      },
      "source": [
        "def quart1(x):\n",
        "  return x[(len(x) / 4) - 1]"
      ],
      "execution_count": 0,
      "outputs": []
    },
    {
      "cell_type": "code",
      "metadata": {
        "id": "dCN7UDrqd2hn",
        "colab_type": "code",
        "colab": {
          "base_uri": "https://localhost:8080/",
          "height": 229
        },
        "outputId": "794fa65e-0d4a-4ed5-8ea8-d3da91df1ec5"
      },
      "source": [
        "quart1(gauteng)"
      ],
      "execution_count": 65,
      "outputs": [
        {
          "output_type": "error",
          "ename": "TypeError",
          "evalue": "ignored",
          "traceback": [
            "\u001b[0;31m---------------------------------------------------------------------------\u001b[0m",
            "\u001b[0;31mTypeError\u001b[0m                                 Traceback (most recent call last)",
            "\u001b[0;32m<ipython-input-65-c230ba427e26>\u001b[0m in \u001b[0;36m<module>\u001b[0;34m()\u001b[0m\n\u001b[0;32m----> 1\u001b[0;31m \u001b[0mquart1\u001b[0m\u001b[0;34m(\u001b[0m\u001b[0mgauteng\u001b[0m\u001b[0;34m)\u001b[0m\u001b[0;34m\u001b[0m\u001b[0;34m\u001b[0m\u001b[0m\n\u001b[0m",
            "\u001b[0;32m<ipython-input-64-8d4ea0b5323c>\u001b[0m in \u001b[0;36mquart1\u001b[0;34m(x)\u001b[0m\n\u001b[1;32m      1\u001b[0m \u001b[0;32mdef\u001b[0m \u001b[0mquart1\u001b[0m\u001b[0;34m(\u001b[0m\u001b[0mx\u001b[0m\u001b[0;34m)\u001b[0m\u001b[0;34m:\u001b[0m\u001b[0;34m\u001b[0m\u001b[0;34m\u001b[0m\u001b[0m\n\u001b[0;32m----> 2\u001b[0;31m   \u001b[0;32mreturn\u001b[0m \u001b[0mx\u001b[0m\u001b[0;34m[\u001b[0m\u001b[0;34m(\u001b[0m\u001b[0mlen\u001b[0m\u001b[0;34m(\u001b[0m\u001b[0mx\u001b[0m\u001b[0;34m)\u001b[0m \u001b[0;34m/\u001b[0m \u001b[0;36m4\u001b[0m\u001b[0;34m)\u001b[0m \u001b[0;34m-\u001b[0m \u001b[0;36m1\u001b[0m\u001b[0;34m]\u001b[0m\u001b[0;34m\u001b[0m\u001b[0;34m\u001b[0m\u001b[0m\n\u001b[0m",
            "\u001b[0;31mTypeError\u001b[0m: list indices must be integers or slices, not float"
          ]
        }
      ]
    },
    {
      "cell_type": "code",
      "metadata": {
        "id": "4GUKu1uqjg4C",
        "colab_type": "code",
        "outputId": "057ea004-7df6-4804-c186-034286ea52af",
        "colab": {
          "base_uri": "https://localhost:8080/",
          "height": 34
        }
      },
      "source": [
        "## 3rd quartile\n",
        "quartile_3 = gauteng_sort[int(len(gauteng_sort) *.75) - 1]\n",
        "print(quartile_3)"
      ],
      "execution_count": 0,
      "outputs": [
        {
          "output_type": "stream",
          "text": [
            "36024.0\n"
          ],
          "name": "stdout"
        }
      ]
    },
    {
      "cell_type": "code",
      "metadata": {
        "id": "7olSGlNKndas",
        "colab_type": "code",
        "colab": {}
      },
      "source": [
        "five_num_summ = {'max': max, 'median': median, 'min': min, 'q1': quartile_1, 'q3': quartile_3}"
      ],
      "execution_count": 0,
      "outputs": []
    },
    {
      "cell_type": "code",
      "metadata": {
        "id": "GairFFpyXGJJ",
        "colab_type": "code",
        "outputId": "48c2bd8a-a656-476c-de90-863a206fedc9",
        "colab": {
          "base_uri": "https://localhost:8080/",
          "height": 34
        }
      },
      "source": [
        "print(five_num_summ)"
      ],
      "execution_count": 0,
      "outputs": [
        {
          "output_type": "stream",
          "text": [
            "{'max': <built-in function max>, 'median': 24403.5, 'min': <built-in function min>, 'q1': 18422.0, 'q3': 36024.0}\n"
          ],
          "name": "stdout"
        }
      ]
    },
    {
      "cell_type": "code",
      "metadata": {
        "id": "gaBnj2-mXLp4",
        "colab_type": "code",
        "colab": {}
      },
      "source": [
        "jozi = [39660.0,\n",
        "            36024.0,\n",
        "            32127.0,\n",
        "            39488.0,\n",
        "            18422.0,\n",
        "            23532.0,\n",
        "            8842.0,\n",
        "            37416.0,\n",
        "            16156.0,\n",
        "            18730.0,\n",
        "            19261.0,\n",
        "            25275.0]"
      ],
      "execution_count": 0,
      "outputs": []
    },
    {
      "cell_type": "code",
      "metadata": {
        "id": "PWQHYJpADeL6",
        "colab_type": "code",
        "colab": {
          "base_uri": "https://localhost:8080/",
          "height": 34
        },
        "outputId": "38bd21ac-c65a-4e55-fe57-f6777194f650"
      },
      "source": [
        "type(jozi)"
      ],
      "execution_count": 42,
      "outputs": [
        {
          "output_type": "execute_result",
          "data": {
            "text/plain": [
              "list"
            ]
          },
          "metadata": {
            "tags": []
          },
          "execution_count": 42
        }
      ]
    },
    {
      "cell_type": "code",
      "metadata": {
        "id": "DIJf7XIYaGEP",
        "colab_type": "code",
        "colab": {
          "base_uri": "https://localhost:8080/",
          "height": 34
        },
        "outputId": "fd8e3c9f-6cae-455d-f757-d597ffd8f553"
      },
      "source": [
        "## works for min as in min(x) and max(x)\n",
        "min(jozi)"
      ],
      "execution_count": 116,
      "outputs": [
        {
          "output_type": "execute_result",
          "data": {
            "text/plain": [
              "8842.0"
            ]
          },
          "metadata": {
            "tags": []
          },
          "execution_count": 116
        }
      ]
    },
    {
      "cell_type": "code",
      "metadata": {
        "id": "hU7cIDgLWiaO",
        "colab_type": "code",
        "colab": {
          "base_uri": "https://localhost:8080/",
          "height": 34
        },
        "outputId": "845b99de-02a4-41c2-b528-d2b80e8bba95"
      },
      "source": [
        "print(sorted(jozi))"
      ],
      "execution_count": 32,
      "outputs": [
        {
          "output_type": "stream",
          "text": [
            "[8842.0, 16156.0, 18422.0, 18730.0, 19261.0, 23532.0, 25275.0, 32127.0, 36024.0, 37416.0, 39488.0, 39660.0]\n"
          ],
          "name": "stdout"
        }
      ]
    },
    {
      "cell_type": "code",
      "metadata": {
        "id": "Rb1d1KBDaxBQ",
        "colab_type": "code",
        "colab": {}
      },
      "source": [
        "def bla(x):\n",
        "  return print(max(x))"
      ],
      "execution_count": 0,
      "outputs": []
    },
    {
      "cell_type": "code",
      "metadata": {
        "id": "hXwasG3RsVON",
        "colab_type": "code",
        "colab": {
          "base_uri": "https://localhost:8080/",
          "height": 286
        },
        "outputId": "af0c8496-fd70-4172-cfd2-7f1f5f9741d9"
      },
      "source": [
        "bla(gauteng)"
      ],
      "execution_count": 121,
      "outputs": [
        {
          "output_type": "error",
          "ename": "RecursionError",
          "evalue": "ignored",
          "traceback": [
            "\u001b[0;31m---------------------------------------------------------------------------\u001b[0m",
            "\u001b[0;31mRecursionError\u001b[0m                            Traceback (most recent call last)",
            "\u001b[0;32m<ipython-input-121-a65c34e2108e>\u001b[0m in \u001b[0;36m<module>\u001b[0;34m()\u001b[0m\n\u001b[0;32m----> 1\u001b[0;31m \u001b[0mbla\u001b[0m\u001b[0;34m(\u001b[0m\u001b[0mgauteng\u001b[0m\u001b[0;34m)\u001b[0m\u001b[0;34m\u001b[0m\u001b[0;34m\u001b[0m\u001b[0m\n\u001b[0m",
            "\u001b[0;32m<ipython-input-120-b6e6bce8efdb>\u001b[0m in \u001b[0;36mbla\u001b[0;34m(x)\u001b[0m\n\u001b[1;32m      1\u001b[0m \u001b[0;32mdef\u001b[0m \u001b[0mbla\u001b[0m\u001b[0;34m(\u001b[0m\u001b[0mx\u001b[0m\u001b[0;34m)\u001b[0m\u001b[0;34m:\u001b[0m\u001b[0;34m\u001b[0m\u001b[0;34m\u001b[0m\u001b[0m\n\u001b[0;32m----> 2\u001b[0;31m   \u001b[0;32mreturn\u001b[0m \u001b[0mprint\u001b[0m\u001b[0;34m(\u001b[0m\u001b[0mmax\u001b[0m\u001b[0;34m(\u001b[0m\u001b[0mx\u001b[0m\u001b[0;34m)\u001b[0m\u001b[0;34m)\u001b[0m\u001b[0;34m\u001b[0m\u001b[0;34m\u001b[0m\u001b[0m\n\u001b[0m",
            "\u001b[0;32m<ipython-input-118-777406a16b42>\u001b[0m in \u001b[0;36mmax\u001b[0;34m(x)\u001b[0m\n\u001b[1;32m      1\u001b[0m \u001b[0;32mdef\u001b[0m \u001b[0mmax\u001b[0m\u001b[0;34m(\u001b[0m\u001b[0mx\u001b[0m\u001b[0;34m)\u001b[0m\u001b[0;34m:\u001b[0m\u001b[0;34m\u001b[0m\u001b[0;34m\u001b[0m\u001b[0m\n\u001b[0;32m----> 2\u001b[0;31m   \u001b[0;32mreturn\u001b[0m \u001b[0mprint\u001b[0m\u001b[0;34m(\u001b[0m\u001b[0mmax\u001b[0m\u001b[0;34m(\u001b[0m\u001b[0mx\u001b[0m\u001b[0;34m)\u001b[0m\u001b[0;34m)\u001b[0m\u001b[0;34m\u001b[0m\u001b[0;34m\u001b[0m\u001b[0m\n\u001b[0m",
            "... last 1 frames repeated, from the frame below ...\n",
            "\u001b[0;32m<ipython-input-118-777406a16b42>\u001b[0m in \u001b[0;36mmax\u001b[0;34m(x)\u001b[0m\n\u001b[1;32m      1\u001b[0m \u001b[0;32mdef\u001b[0m \u001b[0mmax\u001b[0m\u001b[0;34m(\u001b[0m\u001b[0mx\u001b[0m\u001b[0;34m)\u001b[0m\u001b[0;34m:\u001b[0m\u001b[0;34m\u001b[0m\u001b[0;34m\u001b[0m\u001b[0m\n\u001b[0;32m----> 2\u001b[0;31m   \u001b[0;32mreturn\u001b[0m \u001b[0mprint\u001b[0m\u001b[0;34m(\u001b[0m\u001b[0mmax\u001b[0m\u001b[0;34m(\u001b[0m\u001b[0mx\u001b[0m\u001b[0;34m)\u001b[0m\u001b[0;34m)\u001b[0m\u001b[0;34m\u001b[0m\u001b[0;34m\u001b[0m\u001b[0m\n\u001b[0m",
            "\u001b[0;31mRecursionError\u001b[0m: maximum recursion depth exceeded"
          ]
        }
      ]
    },
    {
      "cell_type": "code",
      "metadata": {
        "id": "8g0BbjW0sao-",
        "colab_type": "code",
        "colab": {}
      },
      "source": [
        ""
      ],
      "execution_count": 0,
      "outputs": []
    }
  ]
}